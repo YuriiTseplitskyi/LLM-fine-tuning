{
 "cells": [
  {
   "cell_type": "code",
   "execution_count": null,
   "id": "initial_id",
   "metadata": {
    "collapsed": true,
    "execution": {
     "iopub.execute_input": "2024-09-13T15:05:57.654235Z",
     "iopub.status.busy": "2024-09-13T15:05:57.654235Z",
     "iopub.status.idle": "2024-09-13T15:06:10.087810Z",
     "shell.execute_reply": "2024-09-13T15:06:10.087305Z"
    }
   },
   "outputs": [],
   "source": [
    "import torch\n",
    "import pandas as pd\n",
    "\n",
    "from datasets import Dataset\n",
    "\n",
    "from sklearn.metrics import (\n",
    "    accuracy_score, \n",
    "    precision_recall_fscore_support)\n",
    "\n",
    "from transformers import (\n",
    "    DistilBertTokenizerFast,        \n",
    "    DistilBertForSequenceClassification,  \n",
    "    Trainer,                     \n",
    "    TrainingArguments,\n",
    ")\n"
   ]
  },
  {
   "cell_type": "code",
   "execution_count": null,
   "id": "f9f36cfcd0f4a9d2",
   "metadata": {
    "collapsed": false,
    "execution": {
     "iopub.execute_input": "2024-09-13T15:06:10.090826Z",
     "iopub.status.busy": "2024-09-13T15:06:10.090826Z",
     "iopub.status.idle": "2024-09-13T15:06:10.133095Z",
     "shell.execute_reply": "2024-09-13T15:06:10.133095Z"
    }
   },
   "outputs": [],
   "source": [
    "main_path= 'C:\\\\MAIN\\\\it\\\\projects\\\\py\\\\Sentiment Analysis\\\\' #your path\n",
    "\n",
    "device = torch.device(\"cuda\" if torch.cuda.is_available() else \"cpu\")\n",
    "print(device)"
   ]
  },
  {
   "cell_type": "code",
   "execution_count": null,
   "id": "a26b05928e67b31b",
   "metadata": {
    "collapsed": false,
    "execution": {
     "iopub.execute_input": "2024-09-13T15:06:10.135793Z",
     "iopub.status.busy": "2024-09-13T15:06:10.135793Z",
     "iopub.status.idle": "2024-09-13T15:06:10.164557Z",
     "shell.execute_reply": "2024-09-13T15:06:10.164048Z"
    }
   },
   "outputs": [],
   "source": [
    "df_test = pd.read_csv(f'{main_path}/data/cleaned/test.csv')\n",
    "val_dataset = Dataset.from_pandas(df_test)"
   ]
  },
  {
   "cell_type": "code",
   "execution_count": null,
   "id": "feef3b0e7cb64c31",
   "metadata": {
    "collapsed": false,
    "execution": {
     "iopub.execute_input": "2024-09-13T15:06:10.167563Z",
     "iopub.status.busy": "2024-09-13T15:06:10.166564Z",
     "iopub.status.idle": "2024-09-13T15:06:10.566323Z",
     "shell.execute_reply": "2024-09-13T15:06:10.566323Z"
    }
   },
   "outputs": [],
   "source": [
    "tokenizer = DistilBertTokenizerFast.from_pretrained('distilbert-base-uncased')\n",
    "\n",
    "def tokenize_function(examples: dict)-> dict:\n",
    "    return tokenizer(\n",
    "        examples['post'], \n",
    "        truncation=True, \n",
    "        padding='max_length', \n",
    "        max_length=128,\n",
    "        #clean_up_tokenization_spaces=True\n",
    "    )\n",
    "\n",
    "val_dataset = val_dataset.map(tokenize_function, batched=True)"
   ]
  },
  {
   "cell_type": "code",
   "execution_count": null,
   "id": "870bb3ba3dca3037",
   "metadata": {
    "collapsed": false,
    "execution": {
     "iopub.execute_input": "2024-09-13T15:06:10.570526Z",
     "iopub.status.busy": "2024-09-13T15:06:10.569527Z",
     "iopub.status.idle": "2024-09-13T15:06:10.581674Z",
     "shell.execute_reply": "2024-09-13T15:06:10.581674Z"
    }
   },
   "outputs": [],
   "source": [
    "val_dataset.set_format(type='torch', columns=['input_ids', 'attention_mask', 'label'])"
   ]
  },
  {
   "cell_type": "code",
   "execution_count": null,
   "id": "66972f11f7e76bf2",
   "metadata": {
    "collapsed": false,
    "execution": {
     "iopub.execute_input": "2024-09-13T15:06:10.584716Z",
     "iopub.status.busy": "2024-09-13T15:06:10.584716Z",
     "iopub.status.idle": "2024-09-13T15:06:11.562537Z",
     "shell.execute_reply": "2024-09-13T15:06:11.562537Z"
    }
   },
   "outputs": [],
   "source": [
    "model = DistilBertForSequenceClassification.from_pretrained('distilbert-base-uncased', num_labels=3)\n",
    "model.to(device)\n",
    "\n",
    "for param in model.parameters():\n",
    "    param.requires_grad = False"
   ]
  },
  {
   "cell_type": "code",
   "execution_count": null,
   "id": "3c2fbac0a17d29db",
   "metadata": {
    "collapsed": false,
    "execution": {
     "iopub.execute_input": "2024-09-13T15:06:11.566779Z",
     "iopub.status.busy": "2024-09-13T15:06:11.565757Z",
     "iopub.status.idle": "2024-09-13T15:06:11.577915Z",
     "shell.execute_reply": "2024-09-13T15:06:11.577915Z"
    }
   },
   "outputs": [],
   "source": [
    "def compute_metrics(pred):\n",
    "    labels = pred.label_ids\n",
    "    preds = pred.predictions.argmax(-1)\n",
    "    precision, recall, f1, _ = precision_recall_fscore_support(labels, preds, average='weighted', zero_division=0)\n",
    "    acc = accuracy_score(labels, preds)\n",
    "    return {\n",
    "        'accuracy': acc,\n",
    "        'f1': f1,\n",
    "        'precision': precision,\n",
    "        'recall': recall\n",
    "    }"
   ]
  },
  {
   "cell_type": "code",
   "execution_count": null,
   "id": "1dc17388d05a1fae",
   "metadata": {
    "collapsed": false,
    "execution": {
     "iopub.execute_input": "2024-09-13T15:06:11.581107Z",
     "iopub.status.busy": "2024-09-13T15:06:11.580085Z",
     "iopub.status.idle": "2024-09-13T15:06:11.766426Z",
     "shell.execute_reply": "2024-09-13T15:06:11.766426Z"
    }
   },
   "outputs": [],
   "source": [
    "training_args = TrainingArguments(\n",
    "    output_dir=f'{main_path}/models/baseline',\n",
    "    per_device_eval_batch_size=64,\n",
    "    logging_dir=f'{main_path}/logs/baseline',\n",
    "    logging_steps=400,\n",
    "    eval_strategy='epoch',\n",
    "    save_strategy='epoch',\n",
    "    fp16=False,\n",
    "    seed=42,\n",
    ")\n",
    "\n",
    "trainer = Trainer(\n",
    "    model=model,\n",
    "    args=training_args,\n",
    "    eval_dataset=val_dataset,\n",
    "    compute_metrics=compute_metrics\n",
    ")"
   ]
  },
  {
   "cell_type": "code",
   "execution_count": null,
   "id": "23e36547ce31165a",
   "metadata": {
    "collapsed": false,
    "execution": {
     "iopub.execute_input": "2024-09-13T15:06:11.769718Z",
     "iopub.status.busy": "2024-09-13T15:06:11.769718Z",
     "iopub.status.idle": "2024-09-13T15:06:15.980633Z",
     "shell.execute_reply": "2024-09-13T15:06:15.980633Z"
    }
   },
   "outputs": [],
   "source": [
    "%%time\n",
    "metrics = trainer.evaluate()"
   ]
  },
  {
   "cell_type": "code",
   "execution_count": null,
   "id": "3b03fa122082c02f",
   "metadata": {
    "collapsed": false,
    "execution": {
     "iopub.execute_input": "2024-09-13T15:06:15.983759Z",
     "iopub.status.busy": "2024-09-13T15:06:15.983759Z",
     "iopub.status.idle": "2024-09-13T15:06:15.996800Z",
     "shell.execute_reply": "2024-09-13T15:06:15.996295Z"
    }
   },
   "outputs": [],
   "source": [
    "for key, value in metrics.items():\n",
    "    print(f\"{key}: {value}\")"
   ]
  },
  {
   "cell_type": "code",
   "execution_count": null,
   "id": "a9fe1573bfa56d75",
   "metadata": {
    "collapsed": false
   },
   "outputs": [],
   "source": []
  },
  {
   "cell_type": "code",
   "outputs": [],
   "source": [],
   "metadata": {
    "collapsed": false
   },
   "id": "638347f5b3ab16b3",
   "execution_count": null
  }
 ],
 "metadata": {
  "kernelspec": {
   "display_name": "Python 3",
   "language": "python",
   "name": "python3"
  },
  "language_info": {
   "codemirror_mode": {
    "name": "ipython",
    "version": 3
   },
   "file_extension": ".py",
   "mimetype": "text/x-python",
   "name": "python",
   "nbconvert_exporter": "python",
   "pygments_lexer": "ipython3",
   "version": "3.9.13"
  },
  "widgets": {
   "application/vnd.jupyter.widget-state+json": {
    "state": {
     "01bc3677e1f74b77adf1959fc1486479": {
      "model_module": "@jupyter-widgets/controls",
      "model_module_version": "2.0.0",
      "model_name": "HTMLStyleModel",
      "state": {
       "_model_module": "@jupyter-widgets/controls",
       "_model_module_version": "2.0.0",
       "_model_name": "HTMLStyleModel",
       "_view_count": null,
       "_view_module": "@jupyter-widgets/base",
       "_view_module_version": "2.0.0",
       "_view_name": "StyleView",
       "background": null,
       "description_width": "",
       "font_size": null,
       "text_color": null
      }
     },
     "151554708a10407280fcbe89e607b546": {
      "model_module": "@jupyter-widgets/controls",
      "model_module_version": "2.0.0",
      "model_name": "HTMLModel",
      "state": {
       "_dom_classes": [],
       "_model_module": "@jupyter-widgets/controls",
       "_model_module_version": "2.0.0",
       "_model_name": "HTMLModel",
       "_view_count": null,
       "_view_module": "@jupyter-widgets/controls",
       "_view_module_version": "2.0.0",
       "_view_name": "HTMLView",
       "description": "",
       "description_allow_html": false,
       "layout": "IPY_MODEL_f6543fddc9c4440d9281c0f255dcaf78",
       "placeholder": "​",
       "style": "IPY_MODEL_01bc3677e1f74b77adf1959fc1486479",
       "tabbable": null,
       "tooltip": null,
       "value": " 828/828 [00:00&lt;00:00, 13391.44 examples/s]"
      }
     },
     "427725901f3d4f40a72808657367b501": {
      "model_module": "@jupyter-widgets/base",
      "model_module_version": "2.0.0",
      "model_name": "LayoutModel",
      "state": {
       "_model_module": "@jupyter-widgets/base",
       "_model_module_version": "2.0.0",
       "_model_name": "LayoutModel",
       "_view_count": null,
       "_view_module": "@jupyter-widgets/base",
       "_view_module_version": "2.0.0",
       "_view_name": "LayoutView",
       "align_content": null,
       "align_items": null,
       "align_self": null,
       "border_bottom": null,
       "border_left": null,
       "border_right": null,
       "border_top": null,
       "bottom": null,
       "display": null,
       "flex": null,
       "flex_flow": null,
       "grid_area": null,
       "grid_auto_columns": null,
       "grid_auto_flow": null,
       "grid_auto_rows": null,
       "grid_column": null,
       "grid_gap": null,
       "grid_row": null,
       "grid_template_areas": null,
       "grid_template_columns": null,
       "grid_template_rows": null,
       "height": null,
       "justify_content": null,
       "justify_items": null,
       "left": null,
       "margin": null,
       "max_height": null,
       "max_width": null,
       "min_height": null,
       "min_width": null,
       "object_fit": null,
       "object_position": null,
       "order": null,
       "overflow": null,
       "padding": null,
       "right": null,
       "top": null,
       "visibility": null,
       "width": null
      }
     },
     "5025a3a608634f8ebc5e42cc91e8957b": {
      "model_module": "@jupyter-widgets/controls",
      "model_module_version": "2.0.0",
      "model_name": "HBoxModel",
      "state": {
       "_dom_classes": [],
       "_model_module": "@jupyter-widgets/controls",
       "_model_module_version": "2.0.0",
       "_model_name": "HBoxModel",
       "_view_count": null,
       "_view_module": "@jupyter-widgets/controls",
       "_view_module_version": "2.0.0",
       "_view_name": "HBoxView",
       "box_style": "",
       "children": [
        "IPY_MODEL_93fd81aa2c19481a8626c0537fb6dfc3",
        "IPY_MODEL_d3a36243d8514871ba820b87af024a80",
        "IPY_MODEL_151554708a10407280fcbe89e607b546"
       ],
       "layout": "IPY_MODEL_427725901f3d4f40a72808657367b501",
       "tabbable": null,
       "tooltip": null
      }
     },
     "62e23d80221c4447a8754c0898dbc66d": {
      "model_module": "@jupyter-widgets/base",
      "model_module_version": "2.0.0",
      "model_name": "LayoutModel",
      "state": {
       "_model_module": "@jupyter-widgets/base",
       "_model_module_version": "2.0.0",
       "_model_name": "LayoutModel",
       "_view_count": null,
       "_view_module": "@jupyter-widgets/base",
       "_view_module_version": "2.0.0",
       "_view_name": "LayoutView",
       "align_content": null,
       "align_items": null,
       "align_self": null,
       "border_bottom": null,
       "border_left": null,
       "border_right": null,
       "border_top": null,
       "bottom": null,
       "display": null,
       "flex": null,
       "flex_flow": null,
       "grid_area": null,
       "grid_auto_columns": null,
       "grid_auto_flow": null,
       "grid_auto_rows": null,
       "grid_column": null,
       "grid_gap": null,
       "grid_row": null,
       "grid_template_areas": null,
       "grid_template_columns": null,
       "grid_template_rows": null,
       "height": null,
       "justify_content": null,
       "justify_items": null,
       "left": null,
       "margin": null,
       "max_height": null,
       "max_width": null,
       "min_height": null,
       "min_width": null,
       "object_fit": null,
       "object_position": null,
       "order": null,
       "overflow": null,
       "padding": null,
       "right": null,
       "top": null,
       "visibility": null,
       "width": null
      }
     },
     "76dffbef7ccc4001bb7189fe417c20b4": {
      "model_module": "@jupyter-widgets/controls",
      "model_module_version": "2.0.0",
      "model_name": "HTMLStyleModel",
      "state": {
       "_model_module": "@jupyter-widgets/controls",
       "_model_module_version": "2.0.0",
       "_model_name": "HTMLStyleModel",
       "_view_count": null,
       "_view_module": "@jupyter-widgets/base",
       "_view_module_version": "2.0.0",
       "_view_name": "StyleView",
       "background": null,
       "description_width": "",
       "font_size": null,
       "text_color": null
      }
     },
     "830ed0b2a10348ff858a7c0213d846d6": {
      "model_module": "@jupyter-widgets/base",
      "model_module_version": "2.0.0",
      "model_name": "LayoutModel",
      "state": {
       "_model_module": "@jupyter-widgets/base",
       "_model_module_version": "2.0.0",
       "_model_name": "LayoutModel",
       "_view_count": null,
       "_view_module": "@jupyter-widgets/base",
       "_view_module_version": "2.0.0",
       "_view_name": "LayoutView",
       "align_content": null,
       "align_items": null,
       "align_self": null,
       "border_bottom": null,
       "border_left": null,
       "border_right": null,
       "border_top": null,
       "bottom": null,
       "display": null,
       "flex": null,
       "flex_flow": null,
       "grid_area": null,
       "grid_auto_columns": null,
       "grid_auto_flow": null,
       "grid_auto_rows": null,
       "grid_column": null,
       "grid_gap": null,
       "grid_row": null,
       "grid_template_areas": null,
       "grid_template_columns": null,
       "grid_template_rows": null,
       "height": null,
       "justify_content": null,
       "justify_items": null,
       "left": null,
       "margin": null,
       "max_height": null,
       "max_width": null,
       "min_height": null,
       "min_width": null,
       "object_fit": null,
       "object_position": null,
       "order": null,
       "overflow": null,
       "padding": null,
       "right": null,
       "top": null,
       "visibility": null,
       "width": null
      }
     },
     "93fd81aa2c19481a8626c0537fb6dfc3": {
      "model_module": "@jupyter-widgets/controls",
      "model_module_version": "2.0.0",
      "model_name": "HTMLModel",
      "state": {
       "_dom_classes": [],
       "_model_module": "@jupyter-widgets/controls",
       "_model_module_version": "2.0.0",
       "_model_name": "HTMLModel",
       "_view_count": null,
       "_view_module": "@jupyter-widgets/controls",
       "_view_module_version": "2.0.0",
       "_view_name": "HTMLView",
       "description": "",
       "description_allow_html": false,
       "layout": "IPY_MODEL_62e23d80221c4447a8754c0898dbc66d",
       "placeholder": "​",
       "style": "IPY_MODEL_76dffbef7ccc4001bb7189fe417c20b4",
       "tabbable": null,
       "tooltip": null,
       "value": "Map: 100%"
      }
     },
     "beb1472d299741c18984edb62851d8f7": {
      "model_module": "@jupyter-widgets/controls",
      "model_module_version": "2.0.0",
      "model_name": "ProgressStyleModel",
      "state": {
       "_model_module": "@jupyter-widgets/controls",
       "_model_module_version": "2.0.0",
       "_model_name": "ProgressStyleModel",
       "_view_count": null,
       "_view_module": "@jupyter-widgets/base",
       "_view_module_version": "2.0.0",
       "_view_name": "StyleView",
       "bar_color": null,
       "description_width": ""
      }
     },
     "d3a36243d8514871ba820b87af024a80": {
      "model_module": "@jupyter-widgets/controls",
      "model_module_version": "2.0.0",
      "model_name": "FloatProgressModel",
      "state": {
       "_dom_classes": [],
       "_model_module": "@jupyter-widgets/controls",
       "_model_module_version": "2.0.0",
       "_model_name": "FloatProgressModel",
       "_view_count": null,
       "_view_module": "@jupyter-widgets/controls",
       "_view_module_version": "2.0.0",
       "_view_name": "ProgressView",
       "bar_style": "success",
       "description": "",
       "description_allow_html": false,
       "layout": "IPY_MODEL_830ed0b2a10348ff858a7c0213d846d6",
       "max": 828.0,
       "min": 0.0,
       "orientation": "horizontal",
       "style": "IPY_MODEL_beb1472d299741c18984edb62851d8f7",
       "tabbable": null,
       "tooltip": null,
       "value": 828.0
      }
     },
     "f6543fddc9c4440d9281c0f255dcaf78": {
      "model_module": "@jupyter-widgets/base",
      "model_module_version": "2.0.0",
      "model_name": "LayoutModel",
      "state": {
       "_model_module": "@jupyter-widgets/base",
       "_model_module_version": "2.0.0",
       "_model_name": "LayoutModel",
       "_view_count": null,
       "_view_module": "@jupyter-widgets/base",
       "_view_module_version": "2.0.0",
       "_view_name": "LayoutView",
       "align_content": null,
       "align_items": null,
       "align_self": null,
       "border_bottom": null,
       "border_left": null,
       "border_right": null,
       "border_top": null,
       "bottom": null,
       "display": null,
       "flex": null,
       "flex_flow": null,
       "grid_area": null,
       "grid_auto_columns": null,
       "grid_auto_flow": null,
       "grid_auto_rows": null,
       "grid_column": null,
       "grid_gap": null,
       "grid_row": null,
       "grid_template_areas": null,
       "grid_template_columns": null,
       "grid_template_rows": null,
       "height": null,
       "justify_content": null,
       "justify_items": null,
       "left": null,
       "margin": null,
       "max_height": null,
       "max_width": null,
       "min_height": null,
       "min_width": null,
       "object_fit": null,
       "object_position": null,
       "order": null,
       "overflow": null,
       "padding": null,
       "right": null,
       "top": null,
       "visibility": null,
       "width": null
      }
     }
    },
    "version_major": 2,
    "version_minor": 0
   }
  }
 },
 "nbformat": 4,
 "nbformat_minor": 5
}
