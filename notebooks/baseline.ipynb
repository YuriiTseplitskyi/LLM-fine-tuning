{
 "cells": [
  {
   "cell_type": "code",
   "execution_count": null,
   "id": "initial_id",
   "metadata": {
    "collapsed": true
   },
   "outputs": [],
   "source": [
    "import torch\n",
    "import pandas as pd\n",
    "\n",
    "from datasets import Dataset\n",
    "\n",
    "from sklearn.metrics import (\n",
    "    accuracy_score, \n",
    "    precision_recall_fscore_support)\n",
    "\n",
    "from transformers import (\n",
    "    DistilBertTokenizerFast,        \n",
    "    DistilBertForSequenceClassification,  \n",
    "    Trainer,                     \n",
    "    TrainingArguments,\n",
    ")\n"
   ]
  },
  {
   "cell_type": "code",
   "execution_count": null,
   "outputs": [],
   "source": [
    "main_path= \"\" #your path\n",
    "\n",
    "device = torch.device(\"cuda\" if torch.cuda.is_available() else \"cpu\")\n",
    "print(device)"
   ],
   "metadata": {
    "collapsed": false
   },
   "id": "f9f36cfcd0f4a9d2"
  },
  {
   "cell_type": "code",
   "outputs": [],
   "source": [
    "df_test = pd.read_csv(f'{main_path}/data/cleaned/test.csv')\n",
    "val_dataset = Dataset.from_pandas(df_test)"
   ],
   "metadata": {
    "collapsed": false
   },
   "id": "a26b05928e67b31b"
  },
  {
   "cell_type": "code",
   "outputs": [],
   "source": [
    "tokenizer = DistilBertTokenizerFast.from_pretrained('distilbert-base-uncased')\n",
    "\n",
    "def tokenize_function(examples: dict)-> dict:\n",
    "    return tokenizer(\n",
    "        examples['post'], \n",
    "        truncation=True, \n",
    "        padding='max_length', \n",
    "        max_length=128,\n",
    "        #clean_up_tokenization_spaces=True\n",
    "    )\n",
    "\n",
    "val_dataset = val_dataset.map(tokenize_function, batched=True)"
   ],
   "metadata": {
    "collapsed": false
   },
   "id": "feef3b0e7cb64c31"
  },
  {
   "cell_type": "code",
   "outputs": [],
   "source": [
    "val_dataset.set_format(type='torch', columns=['input_ids', 'attention_mask', 'label'])"
   ],
   "metadata": {
    "collapsed": false
   },
   "id": "870bb3ba3dca3037"
  },
  {
   "cell_type": "code",
   "outputs": [],
   "source": [
    "model = DistilBertForSequenceClassification.from_pretrained('distilbert-base-uncased', num_labels=3)\n",
    "model.to(device)\n",
    "\n",
    "for param in model.parameters():\n",
    "    param.requires_grad = False"
   ],
   "metadata": {
    "collapsed": false
   },
   "id": "66972f11f7e76bf2"
  },
  {
   "cell_type": "code",
   "outputs": [],
   "source": [
    "def compute_metrics(pred):\n",
    "    labels = pred.label_ids\n",
    "    preds = pred.predictions.argmax(-1)\n",
    "    precision, recall, f1, _ = precision_recall_fscore_support(labels, preds, average='weighted', zero_division=0)\n",
    "    acc = accuracy_score(labels, preds)\n",
    "    return {\n",
    "        'accuracy': acc,\n",
    "        'f1': f1,\n",
    "        'precision': precision,\n",
    "        'recall': recall\n",
    "    }"
   ],
   "metadata": {
    "collapsed": false
   },
   "id": "3c2fbac0a17d29db"
  },
  {
   "cell_type": "code",
   "outputs": [],
   "source": [
    "training_args = TrainingArguments(\n",
    "    output_dir=f'{main_path}/models/baseline',\n",
    "    per_device_eval_batch_size=64,\n",
    "    logging_dir=f'{main_path}/logs/baseline',\n",
    "    logging_steps=400,\n",
    "    eval_strategy='epoch',\n",
    "    save_strategy='epoch',\n",
    "    fp16=False,\n",
    "    seed=42,\n",
    ")\n",
    "\n",
    "trainer = Trainer(\n",
    "    model=model,\n",
    "    args=training_args,\n",
    "    eval_dataset=val_dataset,\n",
    "    compute_metrics=compute_metrics\n",
    ")"
   ],
   "metadata": {
    "collapsed": false
   },
   "id": "1dc17388d05a1fae"
  },
  {
   "cell_type": "code",
   "outputs": [],
   "source": [
    "%%time\n",
    "metrics = trainer.evaluate()"
   ],
   "metadata": {
    "collapsed": false
   },
   "id": "23e36547ce31165a"
  },
  {
   "cell_type": "code",
   "outputs": [],
   "source": [
    "for key, value in metrics.items():\n",
    "    print(f\"{key}: {value}\")"
   ],
   "metadata": {
    "collapsed": false
   },
   "id": "3b03fa122082c02f"
  }
 ],
 "metadata": {
  "kernelspec": {
   "display_name": "Python 3",
   "language": "python",
   "name": "python3"
  },
  "language_info": {
   "codemirror_mode": {
    "name": "ipython",
    "version": 2
   },
   "file_extension": ".py",
   "mimetype": "text/x-python",
   "name": "python",
   "nbconvert_exporter": "python",
   "pygments_lexer": "ipython2",
   "version": "2.7.6"
  }
 },
 "nbformat": 4,
 "nbformat_minor": 5
}
