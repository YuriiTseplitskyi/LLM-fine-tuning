{
 "cells": [
  {
   "cell_type": "code",
   "execution_count": null,
   "id": "f8951ba16e29bf1c",
   "metadata": {
    "collapsed": false
   },
   "outputs": [],
   "source": [
    "import torch\n",
    "import pandas as pd\n",
    "\n",
    "from datasets import Dataset\n",
    "\n",
    "from sklearn.metrics import (\n",
    "    accuracy_score, \n",
    "    precision_recall_fscore_support)\n",
    "\n",
    "from transformers import (\n",
    "    DistilBertTokenizerFast,        \n",
    "    DistilBertForSequenceClassification,  \n",
    "    Trainer,                     \n",
    "    TrainingArguments,\n",
    ")\n"
   ]
  },
  {
   "cell_type": "code",
   "outputs": [],
   "source": [
    "main_path= '' #your path"
   ],
   "metadata": {
    "collapsed": false
   },
   "id": "4c47110043c7a78c"
  },
  {
   "cell_type": "code",
   "execution_count": null,
   "id": "dc2d57473a47132b",
   "metadata": {
    "collapsed": false
   },
   "outputs": [],
   "source": [
    "if torch.cuda.is_available():\n",
    "    print(f\"GPU: {torch.cuda.get_device_name(0)} is available.\")\n",
    "else:\n",
    "    print(\"No GPU available. Training will run on CPU.\")\n",
    "\n",
    "device = torch.device(\"cuda\" if torch.cuda.is_available() else \"cpu\")\n",
    "print(device)"
   ]
  },
  {
   "cell_type": "code",
   "execution_count": null,
   "id": "5fa84a0d5c359f55",
   "metadata": {
    "collapsed": false
   },
   "outputs": [],
   "source": [
    "df_test = pd.read_csv(f'{main_path}/data/cleaned/test.csv')\n",
    "val_dataset = Dataset.from_pandas(df_test)"
   ]
  },
  {
   "cell_type": "code",
   "execution_count": null,
   "id": "7ef86a31a03c9ff8",
   "metadata": {
    "collapsed": false
   },
   "outputs": [],
   "source": [
    "tokenizer = DistilBertTokenizerFast.from_pretrained('distilbert-base-uncased')\n",
    "\n",
    "def tokenize_function(examples: dict)-> dict:\n",
    "    return tokenizer(\n",
    "        examples['post'], \n",
    "        truncation=True, \n",
    "        padding='max_length', \n",
    "        max_length=128,\n",
    "        #clean_up_tokenization_spaces=True\n",
    "    )\n",
    "\n",
    "val_dataset = val_dataset.map(tokenize_function, batched=True)"
   ]
  },
  {
   "cell_type": "code",
   "execution_count": null,
   "id": "6b5142102ba13642",
   "metadata": {
    "collapsed": false
   },
   "outputs": [],
   "source": [
    "val_dataset.set_format(type='torch', columns=['input_ids', 'attention_mask', 'label'])"
   ]
  },
  {
   "cell_type": "code",
   "execution_count": null,
   "id": "68024b82afd1bd2",
   "metadata": {
    "collapsed": false
   },
   "outputs": [],
   "source": [
    "model = DistilBertForSequenceClassification.from_pretrained('distilbert-base-uncased', num_labels=3)\n",
    "model.to(device)\n",
    "\n",
    "for param in model.parameters():\n",
    "    param.requires_grad = False"
   ]
  },
  {
   "cell_type": "code",
   "outputs": [],
   "source": [
    "def compute_metrics(pred):\n",
    "    labels = pred.label_ids\n",
    "    preds = pred.predictions.argmax(-1)\n",
    "    precision, recall, f1, _ = precision_recall_fscore_support(labels, preds, average='weighted', zero_division=0)\n",
    "    acc = accuracy_score(labels, preds)\n",
    "    return {\n",
    "        'accuracy': acc,\n",
    "        'f1': f1,\n",
    "        'precision': precision,\n",
    "        'recall': recall\n",
    "    }"
   ],
   "metadata": {
    "collapsed": false
   },
   "id": "be003384b027ade9",
   "execution_count": null
  },
  {
   "cell_type": "code",
   "execution_count": null,
   "id": "48413a06f70770b0",
   "metadata": {
    "collapsed": false
   },
   "outputs": [],
   "source": [
    "training_args = TrainingArguments(\n",
    "    output_dir=f'{main_path}/models/baseline',\n",
    "    per_device_eval_batch_size=64,\n",
    "    logging_dir=f'{main_path}/logs/baseline',\n",
    "    logging_steps=400,\n",
    "    eval_strategy='epoch',\n",
    "    save_strategy='epoch',\n",
    "    fp16=False,\n",
    "    seed=42,\n",
    ")\n",
    "\n",
    "trainer = Trainer(\n",
    "    model=model,\n",
    "    args=training_args,\n",
    "    eval_dataset=val_dataset,\n",
    "    compute_metrics=compute_metrics\n",
    ")"
   ]
  },
  {
   "cell_type": "code",
   "execution_count": null,
   "id": "8a0e3f400359cc75",
   "metadata": {
    "collapsed": false
   },
   "outputs": [],
   "source": [
    "%%time\n",
    "metrics = trainer.evaluate()"
   ]
  },
  {
   "cell_type": "code",
   "execution_count": null,
   "id": "b899e41d2822d8ce",
   "metadata": {
    "collapsed": false
   },
   "outputs": [],
   "source": [
    "for key, value in metrics.items():\n",
    "    print(f\"{key}: {value}\")"
   ]
  }
 ],
 "metadata": {
  "kernelspec": {
   "display_name": "Python 3",
   "language": "python",
   "name": "python3"
  },
  "language_info": {
   "codemirror_mode": {
    "name": "ipython",
    "version": 2
   },
   "file_extension": ".py",
   "mimetype": "text/x-python",
   "name": "python",
   "nbconvert_exporter": "python",
   "pygments_lexer": "ipython2",
   "version": "2.7.6"
  }
 },
 "nbformat": 4,
 "nbformat_minor": 5
}
