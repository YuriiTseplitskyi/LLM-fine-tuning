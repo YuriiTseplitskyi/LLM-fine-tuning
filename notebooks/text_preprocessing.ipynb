{
 "cells": [
  {
   "cell_type": "code",
   "execution_count": 1,
   "id": "initial_id",
   "metadata": {
    "collapsed": true,
    "ExecuteTime": {
     "end_time": "2024-09-25T15:14:27.725589Z",
     "start_time": "2024-09-25T15:14:26.871030Z"
    }
   },
   "outputs": [],
   "source": [
    "import pandas as pd\n",
    "import numpy as np\n",
    "import re\n",
    "import nltk\n",
    "from nltk.stem import WordNetLemmatizer\n",
    "from nltk.corpus import stopwords\n",
    "from sklearn.preprocessing import LabelEncoder"
   ]
  },
  {
   "cell_type": "code",
   "outputs": [
    {
     "name": "stderr",
     "output_type": "stream",
     "text": [
      "[nltk_data] Downloading package stopwords to\n",
      "[nltk_data]     C:\\Users\\yura0\\AppData\\Roaming\\nltk_data...\n",
      "[nltk_data]   Package stopwords is already up-to-date!\n"
     ]
    },
    {
     "data": {
      "text/plain": "True"
     },
     "execution_count": 2,
     "metadata": {},
     "output_type": "execute_result"
    }
   ],
   "source": [
    "nltk.download('stopwords')"
   ],
   "metadata": {
    "collapsed": false,
    "ExecuteTime": {
     "end_time": "2024-09-25T15:14:28.285857Z",
     "start_time": "2024-09-25T15:14:27.726597Z"
    }
   },
   "id": "5e54068b65a94c9f",
   "execution_count": 2
  },
  {
   "cell_type": "code",
   "outputs": [],
   "source": [
    "def remove_stopwords(text: str) -> str:\n",
    "    stop_words = set(stopwords.words('english'))\n",
    "    words = text.split()\n",
    "    words = [word for word in words if word not in stop_words]\n",
    "    return ' '.join(words)"
   ],
   "metadata": {
    "collapsed": false,
    "ExecuteTime": {
     "end_time": "2024-09-25T15:14:28.300726Z",
     "start_time": "2024-09-25T15:14:28.287625Z"
    }
   },
   "id": "3aa0f84fa09e7008",
   "execution_count": 3
  },
  {
   "cell_type": "code",
   "outputs": [],
   "source": [
    "def lemmatize(text: str) -> str:\n",
    "    lemmatizer = WordNetLemmatizer()\n",
    "    words = text.split()\n",
    "    words = [lemmatizer.lemmatize(word) for word in words]\n",
    "    return ' '.join(words)"
   ],
   "metadata": {
    "collapsed": false,
    "ExecuteTime": {
     "end_time": "2024-09-25T15:14:28.316319Z",
     "start_time": "2024-09-25T15:14:28.302732Z"
    }
   },
   "id": "2b5bad46d88cc845",
   "execution_count": 4
  },
  {
   "cell_type": "code",
   "outputs": [],
   "source": [
    "def clean_text(text: str) -> str:\n",
    "    text = str(text).lower()\n",
    "    text = re.sub(r'\\W', ' ', text)            # Remove special characters\n",
    "    text = re.sub(r'\\s+', ' ', text)           # Remove extra spaces\n",
    "    text = re.sub(r'\\d', '', text)             # Remove digits\n",
    "    text = text.encode('ascii', 'ignore').decode('ascii')  # Remove emojis\n",
    "    text = re.sub(r'http\\S+', '', text)        # Remove URLs\n",
    "    text = re.sub(r'#\\w+', '', text)           # Remove hashtags\n",
    "    text = re.sub(r'<.*?>', '', text)          # Remove HTML tags\n",
    "    text = re.sub(r'[^\\w\\s]', '', text)        # Remove punctuation\n",
    "\n",
    "    #text = remove_stopwords(text)\n",
    "    #text = lemmatize(text)\n",
    "\n",
    "    return text"
   ],
   "metadata": {
    "collapsed": false,
    "ExecuteTime": {
     "end_time": "2024-09-25T15:14:28.331858Z",
     "start_time": "2024-09-25T15:14:28.317355Z"
    }
   },
   "id": "e1a7da2af5f67f14",
   "execution_count": 5
  },
  {
   "cell_type": "code",
   "outputs": [],
   "source": [
    "def process_file(input_path: str, output_path: str):\n",
    "\n",
    "    df = pd.read_csv(input_path)\n",
    "\n",
    "    df = df[df['sentiment'] != 'Irrelevant']\n",
    "    df = df.drop(columns=['id'])\n",
    "\n",
    "    df = df.sample(frac=1, random_state=42).reset_index(drop=True)\n",
    "\n",
    "    df['post'] = df['post'].apply(clean_text)\n",
    "\n",
    "    df = df[df['post'].str.strip().astype(bool)]\n",
    "    df['post'] = df['post'].replace('nan', np.nan)\n",
    "    df = df.dropna(subset=['post'])\n",
    "\n",
    "    le = LabelEncoder()\n",
    "    df['label'] = le.fit_transform(df['sentiment'])\n",
    "\n",
    "    df.to_csv(output_path, index=False)\n"
   ],
   "metadata": {
    "collapsed": false,
    "ExecuteTime": {
     "end_time": "2024-09-25T15:14:28.347189Z",
     "start_time": "2024-09-25T15:14:28.332866Z"
    }
   },
   "id": "ba87e22aa4b42584",
   "execution_count": 6
  },
  {
   "cell_type": "code",
   "outputs": [],
   "source": [
    "process_file(\n",
    "    #your path\n",
    "    input_path='',\n",
    "    output_path=''\n",
    ")"
   ],
   "metadata": {
    "collapsed": false,
    "ExecuteTime": {
     "end_time": "2024-09-25T15:14:28.410482Z",
     "start_time": "2024-09-25T15:14:28.348476Z"
    }
   },
   "id": "668287f2c4953f63",
   "execution_count": 7
  }
 ],
 "metadata": {
  "kernelspec": {
   "display_name": "Python 3",
   "language": "python",
   "name": "python3"
  },
  "language_info": {
   "codemirror_mode": {
    "name": "ipython",
    "version": 2
   },
   "file_extension": ".py",
   "mimetype": "text/x-python",
   "name": "python",
   "nbconvert_exporter": "python",
   "pygments_lexer": "ipython2",
   "version": "2.7.6"
  }
 },
 "nbformat": 4,
 "nbformat_minor": 5
}
