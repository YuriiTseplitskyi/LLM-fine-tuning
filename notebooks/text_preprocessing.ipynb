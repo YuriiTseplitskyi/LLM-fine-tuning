{
 "cells": [
  {
   "cell_type": "code",
   "execution_count": null,
   "id": "initial_id",
   "metadata": {
    "collapsed": true
   },
   "outputs": [],
   "source": [
    "import pandas as pd\n",
    "import numpy as np\n",
    "import re\n",
    "import nltk\n",
    "from nltk.stem import WordNetLemmatizer\n",
    "from nltk.corpus import stopwords\n",
    "from sklearn.preprocessing import LabelEncoder"
   ]
  },
  {
   "cell_type": "code",
   "outputs": [],
   "source": [
    "nltk.download('stopwords')"
   ],
   "metadata": {
    "collapsed": false
   },
   "id": "5e54068b65a94c9f",
   "execution_count": null
  },
  {
   "cell_type": "code",
   "outputs": [],
   "source": [
    "set(stopwords.words('english'))"
   ],
   "metadata": {
    "collapsed": false
   },
   "id": "dee0ffe9051c4766",
   "execution_count": null
  },
  {
   "cell_type": "code",
   "outputs": [],
   "source": [
    "def remove_stopwords(text: str) -> str:\n",
    "    stop_words = set(stopwords.words('english'))\n",
    "    words = text.split()\n",
    "    words = [word for word in words if word not in stop_words]\n",
    "    return ' '.join(words)"
   ],
   "metadata": {
    "collapsed": false
   },
   "id": "3aa0f84fa09e7008",
   "execution_count": null
  },
  {
   "cell_type": "code",
   "outputs": [],
   "source": [
    "def lemmatize(text: str) -> str:\n",
    "    lemmatizer = WordNetLemmatizer()\n",
    "    words = text.split()\n",
    "    words = [lemmatizer.lemmatize(word) for word in words]\n",
    "    return ' '.join(words)"
   ],
   "metadata": {
    "collapsed": false
   },
   "id": "2b5bad46d88cc845",
   "execution_count": null
  },
  {
   "cell_type": "code",
   "outputs": [],
   "source": [
    "def clean_text(text: str) -> str:\n",
    "    text = str(text).lower()\n",
    "    text = re.sub(r'\\W', ' ', text)            # Remove special characters\n",
    "    text = re.sub(r'\\s+', ' ', text)           # Remove extra spaces\n",
    "    text = re.sub(r'\\d', '', text)             # Remove numbers\n",
    "    text = text.encode('ascii', 'ignore').decode('ascii')  # Remove emojis\n",
    "    text = re.sub(r'http\\S+', '', text)        # Remove URLs\n",
    "    text = re.sub(r'#\\w+', '', text)           # Remove hashtags\n",
    "    text = re.sub(r'<.*?>', '', text)          # Remove HTML tags\n",
    "    text = re.sub(r'[^\\w\\s]', '', text)        # Remove punctuation\n",
    "\n",
    "    #text = remove_stopwords(text)\n",
    "    #text = lemmatize(text)\n",
    "\n",
    "    return text"
   ],
   "metadata": {
    "collapsed": false
   },
   "id": "e1a7da2af5f67f14",
   "execution_count": null
  },
  {
   "cell_type": "code",
   "outputs": [],
   "source": [
    "def process_file(input_path: str, output_path: str):\n",
    "\n",
    "    df = pd.read_csv(input_path)\n",
    "\n",
    "    df = df[df['sentiment'] != 'Irrelevant']\n",
    "    df = df.drop(columns=['id', 'entity'])\n",
    "\n",
    "    df = df.sample(frac=1, random_state=42).reset_index(drop=True)\n",
    "\n",
    "    df['post'] = df['post'].apply(clean_text)\n",
    "\n",
    "    df = df[df['post'].str.strip().astype(bool)]\n",
    "    df['post'] = df['post'].replace('nan', np.nan)\n",
    "    df = df.dropna(subset=['post'])\n",
    "\n",
    "\n",
    "    le = LabelEncoder()\n",
    "    df['label'] = le.fit_transform(df['sentiment'])\n",
    "\n",
    "    df.to_csv(output_path, index=False)\n"
   ],
   "metadata": {
    "collapsed": false
   },
   "id": "ba87e22aa4b42584",
   "execution_count": null
  },
  {
   "cell_type": "code",
   "outputs": [],
   "source": [
    "process_file(\n",
    "    #your path\n",
    "    input_path='',\n",
    "    output_path=''\n",
    ")"
   ],
   "metadata": {
    "collapsed": false
   },
   "id": "668287f2c4953f63",
   "execution_count": null
  }
 ],
 "metadata": {
  "kernelspec": {
   "display_name": "Python 3",
   "language": "python",
   "name": "python3"
  },
  "language_info": {
   "codemirror_mode": {
    "name": "ipython",
    "version": 2
   },
   "file_extension": ".py",
   "mimetype": "text/x-python",
   "name": "python",
   "nbconvert_exporter": "python",
   "pygments_lexer": "ipython2",
   "version": "2.7.6"
  }
 },
 "nbformat": 4,
 "nbformat_minor": 5
}
